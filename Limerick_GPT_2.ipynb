{
  "cells": [
    {
      "cell_type": "markdown",
      "source": [
        "# Primary Imports and Setup"
      ],
      "metadata": {
        "id": "q9GxZQPaAgmO"
      }
    },
    {
      "cell_type": "code",
      "execution_count": null,
      "metadata": {
        "id": "KBkpRgBCBS2_",
        "cellView": "form"
      },
      "outputs": [],
      "source": [
        "#@title Basic imports\n",
        "%tensorflow_version 1.x\n",
        "!pip install -q gpt-2-simple==0.7.2\n",
        "import gpt_2_simple as gpt2\n",
        "from datetime import datetime\n",
        "from google.colab import files"
      ]
    },
    {
      "cell_type": "code",
      "execution_count": null,
      "metadata": {
        "id": "P8wSlgXoDPCR",
        "cellView": "form"
      },
      "outputs": [],
      "source": [
        "#@title Choose and download model\n",
        "##124M,355M,774M,1558M\n",
        "model_name = \"774M\" #@param {type:\"string\"}\n",
        "gpt2.download_gpt2(model_name=model_name)"
      ]
    },
    {
      "cell_type": "code",
      "execution_count": null,
      "metadata": {
        "colab": {
          "base_uri": "https://localhost:8080/"
        },
        "id": "B-_0WwSZWGD-",
        "outputId": "868d0b0c-49e3-417e-c4cc-4c2a53a8ba20",
        "cellView": "form"
      },
      "outputs": [
        {
          "name": "stdout",
          "output_type": "stream",
          "text": [
            "Mounted at /content/drive\n"
          ]
        }
      ],
      "source": [
        "#@title Mount Gdrive\n",
        "gpt2.mount_gdrive()"
      ]
    },
    {
      "cell_type": "code",
      "execution_count": null,
      "metadata": {
        "id": "-Z6okFD8VKtS",
        "cellView": "form"
      },
      "outputs": [],
      "source": [
        "#@title Import checkpoint to workspace (optional)\n",
        "gpt2.copy_checkpoint_from_gdrive('limericks_rhymified')"
      ]
    },
    {
      "cell_type": "markdown",
      "source": [
        "# Data Pre-processing"
      ],
      "metadata": {
        "id": "G3M0al2bAtNQ"
      }
    },
    {
      "cell_type": "code",
      "source": [
        "#@title Functions for Testing Limericks\n",
        "!pip install pyphen\n",
        "import pyphen\n",
        "dic = pyphen.Pyphen(lang='en')\n",
        "\n",
        "#checks to see if peom is rhyming\n",
        "def is_rhyming(poem:str):\n",
        "  l125= []\n",
        "  l34 = []\n",
        "  for i in range(len(poem.split('\\n'))):\n",
        "    line = poem.split('\\n')[i]\n",
        "    w = line.split(' ')[-1]\n",
        "    w = re.sub(r'[^\\w\\s]','',w).lower()\n",
        "    if i == 0 or i == 1 or i == 4: \n",
        "      try:\n",
        "        l125.append(arpabet[w][0][-1])\n",
        "      except:\n",
        "        return False\n",
        "    else:\n",
        "      try:\n",
        "        l34.append (arpabet[w][0][-1])\n",
        "      except:\n",
        "        return False\n",
        "  if len(set(l125)) == 1 and len(set(l34))==1: return True\n",
        "  else: return False\n",
        "\n",
        "#checks to see if the poem has correct number of lines\n",
        "def is_lining(poem:str):\n",
        "  if len(poem.split('\\n')) == 5: return True\n",
        "  else: return False\n",
        "\n",
        "#outputs the number of syllables in each line\n",
        "def wordcounts(poem:str):\n",
        "  w_counts = []\n",
        "  for line in poem.split('\\n'):\n",
        "    w=[]\n",
        "    for word in line.split():\n",
        "      w.extend(dic.inserted(word).split('-'))\n",
        "    w_counts.append(len(w))\n",
        "  return w_counts\n",
        "\n",
        "#checks if the poem has the right number of syllables\n",
        "def is_wordcounting(poem:str):\n",
        "  wc = wordcounts(poem)\n",
        "  if min([wc[0],wc[1],wc[4]]) > max([wc[2],wc[3]]):\n",
        "    return True\n",
        "  else: \n",
        "    return False\n",
        "\n",
        "def limerick_score(poem:str):\n",
        "  score = 0\n",
        "  if is_lining(poem): score += 1\n",
        "  try:\n",
        "    if is_wordcounting(poem): score +=1\n",
        "  except:\n",
        "      pass\n",
        "  try:\n",
        "    if is_rhyming(poem): score += 1\n",
        "  except:\n",
        "    pass\n",
        "  return score"
      ],
      "metadata": {
        "id": "B4vNV4fkCiWL",
        "cellView": "form"
      },
      "execution_count": null,
      "outputs": []
    },
    {
      "cell_type": "code",
      "execution_count": null,
      "metadata": {
        "id": "_I369qa3sCKp",
        "cellView": "form"
      },
      "outputs": [],
      "source": [
        "#@title Tagging and Untagging Functions\n",
        "!pip install pronouncing\n",
        "import pandas as pd\n",
        "import nltk\n",
        "import re\n",
        "import pronouncing\n",
        "from random import sample\n",
        "\n",
        "nltk.download('cmudict')\n",
        "arpabet = nltk.corpus.cmudict.dict()\n",
        "\n",
        "#Tags each word in a poem with its phonetic representation according to cmu lexicon in NLTK in the following form: word[phonemes]\n",
        "def phoneticize(poem):\n",
        "  poem_phonetics = []\n",
        "  for line in poem.split('\\n'):\n",
        "    line_phonetics = []\n",
        "    for word in line.split(' '):\n",
        "      try:\n",
        "        w = re.sub(r'[^\\w\\s]','',word).lower()    \n",
        "        line_phonetics.append(word+'['+' '.join(arpabet[w][0])+']')\n",
        "        \n",
        "      except: \n",
        "        line_phonetics.append(word)\n",
        "    #print(line_phonetics)\n",
        "    line_phonetics = ' '.join(line_phonetics)\n",
        "    poem_phonetics.append(line_phonetics)\n",
        "  poem_phonetics = \"\\n\".join(poem_phonetics)\n",
        "  return poem_phonetics\n",
        "\n",
        "#Initially meant to be dephoneticizer, but it generalized as invariant untagger\n",
        "def dephoneticize(poem:str):\n",
        "    s = []\n",
        "    p = False\n",
        "    for i in range(len(poem)):\n",
        "        if poem[i] == '[': p = True\n",
        "        if poem[i] == ']': \n",
        "            p = False\n",
        "            continue\n",
        "        if not p: s.append(poem[i])\n",
        "    return ''.join(s)\n",
        "\n",
        "#Tags the end of each line with all the rhymes present in the poem and rhymes in the rhyming dictionary in 'pronouncing'. \n",
        "#It outputs 5 rhymes at the end of the line in the following format: this is a sentence['penance', 'admittance','forbiddance','presence', 'incense']\n",
        "def rhymify(poem:str):\n",
        "  clean = lambda x : re.sub(r'[^\\w\\s]','',x).lower()\n",
        "  lines = [n for n in poem.split('\\n')]\n",
        "  gw = [n.split(' ')[-1] for n in lines]\n",
        "  l = [clean(i) for i in gw]\n",
        "  last0 = l[0:2]+l[-1:]\n",
        "  last1 = l[2:4]\n",
        "  p = []\n",
        "  for line in lines:\n",
        "    lm = ''\n",
        "    w = clean(line.split(\" \")[-1])\n",
        "    r = pronouncing.rhymes(w)\n",
        "    if w in last0:\n",
        "      if len(r) >= 2:\n",
        "        r = sample(r,2) + last0\n",
        "      else:\n",
        "        r= r + last0\n",
        "      lm = line + str(r)\n",
        "    if w in last1:\n",
        "      if len(r) >= 3:\n",
        "        r = sample(r,3) + last1\n",
        "      else:\n",
        "        r= r + last1\n",
        "      lm = line + str(r)\n",
        "    p.append(lm)\n",
        "    return \"\\n\".join(p)"
      ]
    },
    {
      "cell_type": "code",
      "execution_count": null,
      "metadata": {
        "id": "jTR8nYZwTRM1",
        "cellView": "form"
      },
      "outputs": [],
      "source": [
        "#@title Read Limerick dataset\n",
        "import pandas as pd\n",
        "limerick_df = pd.read_csv('limerick_dataset.csv', encoding='utf-8')\n",
        "limerick_df.head()"
      ]
    },
    {
      "cell_type": "code",
      "source": [
        "#@title Rhymify/Phoneticize database + Add start/end token + Stringify and Export as txt\n",
        "#Rhymify/Phoneticize\n",
        "limerick_df['limerick'] = limerick_df['limerick'].apply(lambda x: rhymify(x))\n",
        "# Stringify and Add tokens \n",
        "limerick_string = \"<|endoftext|>\\n<|startoftext|>\".join(limerick_df['limerick'])\n",
        "limerick_string = \"<|startoftext|>\"+limerick_string + \"<|endoftext|>\"\n",
        "#Export as txt\n",
        "with open(\"limerick_dataset.txt\", \"w\") as text_file:\n",
        "    text_file.write(limerick_string)\n"
      ],
      "metadata": {
        "id": "LBWNnf-X0ymQ",
        "cellView": "form"
      },
      "execution_count": null,
      "outputs": []
    },
    {
      "cell_type": "markdown",
      "metadata": {
        "id": "LdpZQXknFNY3"
      },
      "source": [
        "# Finetuning Model"
      ]
    },
    {
      "cell_type": "code",
      "execution_count": null,
      "metadata": {
        "id": "581V7fLevmNB",
        "cellView": "form"
      },
      "outputs": [],
      "source": [
        "#@title Load existing model (optional)\n",
        "gpt2.load_gpt2(sess, run_name='limericks_774')"
      ]
    },
    {
      "cell_type": "code",
      "execution_count": null,
      "metadata": {
        "id": "e1_UYOvfbe6D",
        "cellView": "form"
      },
      "outputs": [],
      "source": [
        "#@title Start Sess\n",
        "sess = gpt2.start_tf_sess()"
      ]
    },
    {
      "cell_type": "code",
      "source": [
        "#@title Finetune\n",
        "#sess = gpt2.start_tf_sess()\n",
        "gpt2.finetune(sess,\n",
        "              dataset=file_name,\n",
        "              model_name='774M',\n",
        "              steps=5000,\n",
        "              restore_from='latest',\n",
        "              run_name='limericks_rhymified',\n",
        "              print_every=100,\n",
        "              sample_every=100,\n",
        "              save_every=500,\n",
        "              learning_rate = 3e-7,only_train_transformer_layers=False)"
      ],
      "metadata": {
        "id": "0HifnvGzKtur",
        "cellView": "form"
      },
      "execution_count": null,
      "outputs": []
    },
    {
      "cell_type": "code",
      "source": [
        "#@title Generate and score\n",
        "from collections import Counter\n",
        "answers = gpt2.generate(sess, prefix = \"<|startoftext|>\" , run_name=\"limericks_774\", nsamples=100, temperature=0.1, length=300,truncate=\"<|endoftext|>\" ,return_as_list=True)\n",
        "scores = []\n",
        "for i in answers:\n",
        "    scores.append(limerick_score(dephoneticize(i).replace(\"<|startoftext|>\",'')))\n",
        "print(Counter(scores))"
      ],
      "metadata": {
        "colab": {
          "base_uri": "https://localhost:8080/"
        },
        "id": "8zY_hCNaDE2q",
        "outputId": "18b191f7-9754-4cff-9531-ac781814f5a1",
        "cellView": "form"
      },
      "execution_count": null,
      "outputs": [
        {
          "output_type": "stream",
          "name": "stdout",
          "text": [
            "Counter({2: 38, 1: 35, 0: 27})\n"
          ]
        }
      ]
    },
    {
      "cell_type": "code",
      "source": [
        "#@title Find indices with perfect limerick score\n",
        "indices = [i for i, x in enumerate(scores) if x == 3]\n"
      ],
      "metadata": {
        "id": "fSAGupxwYf6c",
        "cellView": "form"
      },
      "execution_count": null,
      "outputs": []
    },
    {
      "cell_type": "code",
      "source": [
        "#@title Print Perfect Limericks\n",
        "for i in indices:\n",
        "    print(dephoneticize(answers[i]).replace(\"<|startoftext|>\",''),end='\\n\\n')"
      ],
      "metadata": {
        "id": "Fi4eLbRfEMwz",
        "cellView": "form"
      },
      "execution_count": null,
      "outputs": []
    },
    {
      "cell_type": "code",
      "execution_count": null,
      "metadata": {
        "id": "rIHiVP53FnsX"
      },
      "outputs": [],
      "source": [
        "!kill -9 -1"
      ]
    }
  ],
  "metadata": {
    "accelerator": "GPU",
    "colab": {
      "collapsed_sections": [
        "q9GxZQPaAgmO",
        "G3M0al2bAtNQ",
        "LdpZQXknFNY3"
      ],
      "machine_shape": "hm",
      "name": "Limerick GPT-2 ",
      "provenance": []
    },
    "kernelspec": {
      "display_name": "Python 3",
      "name": "python3"
    }
  },
  "nbformat": 4,
  "nbformat_minor": 0
}